{
 "cells": [
  {
   "cell_type": "code",
   "execution_count": 1,
   "metadata": {},
   "outputs": [],
   "source": [
    "from selenium import webdriver\n",
    "from selenium.webdriver.chrome.options import Options\n",
    "from selenium.webdriver.common.by import By\n",
    "from selenium.webdriver.support.ui import WebDriverWait\n",
    "from selenium.webdriver.support import expected_conditions as EC"
   ]
  },
  {
   "cell_type": "code",
   "execution_count": 2,
   "metadata": {},
   "outputs": [],
   "source": [
    "chrome_options= Options()\n",
    "chrome_options.add_argument(\"--headless\")\n",
    "browser = webdriver.Chrome(options=chrome_options)\n",
    "browser.get(\"https://www.daraz.com.np/#\")"
   ]
  },
  {
   "cell_type": "code",
   "execution_count": 33,
   "metadata": {},
   "outputs": [
    {
     "name": "stdout",
     "output_type": "stream",
     "text": [
      "[<selenium.webdriver.remote.webelement.WebElement (session=\"88eb29b98d56c7c3ce01a9acf5daeca5\", element=\"87B30A5DF9AB1D84BB2EF5C184C43610_element_25\")>, <selenium.webdriver.remote.webelement.WebElement (session=\"88eb29b98d56c7c3ce01a9acf5daeca5\", element=\"87B30A5DF9AB1D84BB2EF5C184C43610_element_32\")>, <selenium.webdriver.remote.webelement.WebElement (session=\"88eb29b98d56c7c3ce01a9acf5daeca5\", element=\"87B30A5DF9AB1D84BB2EF5C184C43610_element_39\")>, <selenium.webdriver.remote.webelement.WebElement (session=\"88eb29b98d56c7c3ce01a9acf5daeca5\", element=\"87B30A5DF9AB1D84BB2EF5C184C43610_element_46\")>, <selenium.webdriver.remote.webelement.WebElement (session=\"88eb29b98d56c7c3ce01a9acf5daeca5\", element=\"87B30A5DF9AB1D84BB2EF5C184C43610_element_53\")>, <selenium.webdriver.remote.webelement.WebElement (session=\"88eb29b98d56c7c3ce01a9acf5daeca5\", element=\"87B30A5DF9AB1D84BB2EF5C184C43610_element_60\")>]\n"
     ]
    }
   ],
   "source": [
    "try:\n",
    "    flash_sale = WebDriverWait(browser,10).until(\n",
    "        EC.presence_of_element_located((By.ID,\"hp-flash-sale\"))\n",
    "\n",
    "    )\n",
    "    Title = flash_sale.find_element(By.CLASS_NAME,\"hp-mod-card-header\").text\n",
    "    \n",
    "    flash_sale_content = flash_sale.find_elements(By.CLASS_NAME,\"card-fs-content\")\n",
    "\n",
    "    for content in flash_sale_content:\n",
    "        product_title = content.find_elements(By.CLASS_NAME,\"fs-card-text\")\n",
    "        print(product_title)\n",
    "    \n",
    "        \n",
    "except Exception as e:\n",
    "    print(\"error:\",e)    "
   ]
  },
  {
   "cell_type": "code",
   "execution_count": null,
   "metadata": {},
   "outputs": [],
   "source": []
  }
 ],
 "metadata": {
  "kernelspec": {
   "display_name": "env",
   "language": "python",
   "name": "python3"
  },
  "language_info": {
   "codemirror_mode": {
    "name": "ipython",
    "version": 3
   },
   "file_extension": ".py",
   "mimetype": "text/x-python",
   "name": "python",
   "nbconvert_exporter": "python",
   "pygments_lexer": "ipython3",
   "version": "3.10.0"
  }
 },
 "nbformat": 4,
 "nbformat_minor": 2
}
